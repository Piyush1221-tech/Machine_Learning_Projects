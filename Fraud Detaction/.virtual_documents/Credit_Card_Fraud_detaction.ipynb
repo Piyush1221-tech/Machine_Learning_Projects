import numpy as np
import pandas as pd
from sklearn.preprocessing import StandardScaler
from sklearn.model_selection import train_test_split
from sklearn.ensemble import RandomForestClassifier
from imblearn.over_sampling import SMOTE
import joblib
from sklearn.metrics import classification_report,confusion_matrix,roc_auc_score


df=pd.read_csv("creditcard.csv")
df.head()


df.isnull().sum()
len(df)
df.describe()


len(df)


X =df.drop('Class',axis=1)
y=df['Class']


smote = SMOTE(random_state=42)
X_res, y_res = smote.fit_resample(X, y)



scaler = StandardScaler()
X[['Time','Amount']]=scaler.fit_transform(X[['Time','Amount']])


X_train,X_test,y_train,y_test = train_test_split(X_res,y_res,test_size = 0.3,random_state=42)


model = RandomForestClassifier()
model.fit(X_train,y_train)


y_pred=model.predict(X_test)
y_prob=model.predict_proba(X_test)[:,1]



print("Confusion matrix : ",confusion_matrix(y_pred,y_test))
print("classification report : \n",classification_report(y_test,y_pred))
print('Roc Auc',roc_auc_score(y_test,y_prob))


joblib.dump(model,'fraud_model_simple.joblib')






